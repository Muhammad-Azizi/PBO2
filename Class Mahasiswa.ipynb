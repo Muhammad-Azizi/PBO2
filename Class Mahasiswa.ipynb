{
  "nbformat": 4,
  "nbformat_minor": 0,
  "metadata": {
    "colab": {
      "provenance": [],
      "authorship_tag": "ABX9TyMvyMeJLvRAgp2T1/tmrMBl",
      "include_colab_link": true
    },
    "kernelspec": {
      "name": "python3",
      "display_name": "Python 3"
    },
    "language_info": {
      "name": "python"
    }
  },
  "cells": [
    {
      "cell_type": "markdown",
      "metadata": {
        "id": "view-in-github",
        "colab_type": "text"
      },
      "source": [
        "<a href=\"https://colab.research.google.com/github/Muhammad-Azizi/PBO2/blob/main/Class%20Mahasiswa.ipynb\" target=\"_parent\"><img src=\"https://colab.research.google.com/assets/colab-badge.svg\" alt=\"Open In Colab\"/></a>"
      ]
    },
    {
      "cell_type": "code",
      "execution_count": null,
      "metadata": {
        "colab": {
          "base_uri": "https://localhost:8080/"
        },
        "id": "i3YkDxyAo_gX",
        "outputId": "3b3014b1-7261-4b59-cf94-9bdf46fe364a"
      },
      "outputs": [
        {
          "output_type": "stream",
          "name": "stdout",
          "text": [
            "Muhammad Azizi dengan NIM 230705156 \n"
          ]
        }
      ],
      "source": [
        "class Mahasiswa:\n",
        "    def __init__(self, nama: str, nim: str):\n",
        "        \"\"\"Inisialisasi objek Mahasiswa dengan nama dan NIM.\"\"\"\n",
        "        self.nama = nama\n",
        "        self.nim = nim\n",
        "\n",
        "    def cetak_krs(self):\n",
        "        \"\"\"Method untuk mencetak KRS mahasiswa.\"\"\"\n",
        "        print(f\"{self.nama} dengan NIM {self.nim} \")\n",
        "\n",
        "# Membuat objek dari kelas Mahasiswa\n",
        "if __name__ == \"__main__\":\n",
        "    mhs = Mahasiswa(\"Muhammad Azizi\", \"230705156\")\n",
        "    mhs.cetak_krs()\n"
      ]
    }
  ]
}
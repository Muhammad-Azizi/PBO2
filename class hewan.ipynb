{
  "nbformat": 4,
  "nbformat_minor": 0,
  "metadata": {
    "colab": {
      "provenance": [],
      "authorship_tag": "ABX9TyOHw9k01tndzOfzAorAixf0",
      "include_colab_link": true
    },
    "kernelspec": {
      "name": "python3",
      "display_name": "Python 3"
    },
    "language_info": {
      "name": "python"
    }
  },
  "cells": [
    {
      "cell_type": "markdown",
      "metadata": {
        "id": "view-in-github",
        "colab_type": "text"
      },
      "source": [
        "<a href=\"https://colab.research.google.com/github/Muhammad-Azizi/PBO2/blob/main/class%20hewan.ipynb\" target=\"_parent\"><img src=\"https://colab.research.google.com/assets/colab-badge.svg\" alt=\"Open In Colab\"/></a>"
      ]
    },
    {
      "cell_type": "code",
      "execution_count": 2,
      "metadata": {
        "colab": {
          "base_uri": "https://localhost:8080/"
        },
        "id": "rd4c5S2osxu4",
        "outputId": "afc5e3da-2f79-42ec-fd46-0ca9a228ea25"
      },
      "outputs": [
        {
          "output_type": "stream",
          "name": "stdout",
          "text": [
            "Kucing mengeluarkan suara 'Meong'.\n"
          ]
        }
      ],
      "source": [
        "class Hewan:\n",
        "    def __init__(self, jenis: str, suara: str):\n",
        "        \"\"\"Inisialisasi objek Hewan dengan jenis dan suara.\"\"\"\n",
        "        self.jenis = jenis\n",
        "        self.suara = suara\n",
        "\n",
        "    def bersuara(self):\n",
        "        \"\"\"Method untuk menampilkan suara hewan.\"\"\"\n",
        "        print(f\"{self.jenis} mengeluarkan suara '{self.suara}'.\")\n",
        "\n",
        "# Membuat objek dari kelas Hewan\n",
        "if __name__ == \"__main__\":\n",
        "    animal = Hewan(\"Kucing\", \"Meong\")\n",
        "    animal.bersuara()\n"
      ]
    }
  ]
}
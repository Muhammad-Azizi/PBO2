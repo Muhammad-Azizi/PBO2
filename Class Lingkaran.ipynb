{
  "nbformat": 4,
  "nbformat_minor": 0,
  "metadata": {
    "colab": {
      "provenance": [],
      "authorship_tag": "ABX9TyPWmssUkBQZ4mrvGzUGoVdC",
      "include_colab_link": true
    },
    "kernelspec": {
      "name": "python3",
      "display_name": "Python 3"
    },
    "language_info": {
      "name": "python"
    }
  },
  "cells": [
    {
      "cell_type": "markdown",
      "metadata": {
        "id": "view-in-github",
        "colab_type": "text"
      },
      "source": [
        "<a href=\"https://colab.research.google.com/github/Muhammad-Azizi/PBO2/blob/main/Class%20Lingkaran.ipynb\" target=\"_parent\"><img src=\"https://colab.research.google.com/assets/colab-badge.svg\" alt=\"Open In Colab\"/></a>"
      ]
    },
    {
      "cell_type": "code",
      "execution_count": 1,
      "metadata": {
        "colab": {
          "base_uri": "https://localhost:8080/"
        },
        "id": "QLh_Vg7frSjZ",
        "outputId": "c955d079-bd64-41e7-e8f9-f689eea0d294"
      },
      "outputs": [
        {
          "output_type": "stream",
          "name": "stdout",
          "text": [
            "Lingkaran dengan radius 10 cm memiliki luas 314.16 cm².\n"
          ]
        }
      ],
      "source": [
        "import math\n",
        "\n",
        "class Lingkaran:\n",
        "    def __init__(self, radius: float):\n",
        "        \"\"\"Inisialisasi objek Lingkaran dengan radius.\"\"\"\n",
        "        self.radius = radius\n",
        "\n",
        "    def buat_lingkaran(self):\n",
        "        \"\"\"Method untuk menampilkan informasi lingkaran.\"\"\"\n",
        "        luas = math.pi * (self.radius ** 2)\n",
        "        print(f\"Lingkaran dengan radius {self.radius} cm memiliki luas {luas:.2f} cm².\")\n",
        "\n",
        "# Membuat objek dari kelas Lingkaran\n",
        "if __name__ == \"__main__\":\n",
        "    blt = Lingkaran(10)\n",
        "    blt.buat_lingkaran()\n"
      ]
    }
  ]
}
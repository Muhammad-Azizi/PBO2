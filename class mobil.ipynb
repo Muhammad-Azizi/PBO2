{
  "nbformat": 4,
  "nbformat_minor": 0,
  "metadata": {
    "colab": {
      "provenance": [],
      "authorship_tag": "ABX9TyPiNNfvdD9fJZ0PpOD1hd4U",
      "include_colab_link": true
    },
    "kernelspec": {
      "name": "python3",
      "display_name": "Python 3"
    },
    "language_info": {
      "name": "python"
    }
  },
  "cells": [
    {
      "cell_type": "markdown",
      "metadata": {
        "id": "view-in-github",
        "colab_type": "text"
      },
      "source": [
        "<a href=\"https://colab.research.google.com/github/Muhammad-Azizi/PBO2/blob/main/class%20mobil.ipynb\" target=\"_parent\"><img src=\"https://colab.research.google.com/assets/colab-badge.svg\" alt=\"Open In Colab\"/></a>"
      ]
    },
    {
      "cell_type": "code",
      "execution_count": 9,
      "metadata": {
        "colab": {
          "base_uri": "https://localhost:8080/"
        },
        "id": "9QB4vkcwr-Pv",
        "outputId": "30980135-4a66-499c-e2e7-c506e0175f43"
      },
      "outputs": [
        {
          "output_type": "stream",
          "name": "stdout",
          "text": [
            "Mobil Toyota berwarna Merah menyalakan mesin.\n"
          ]
        }
      ],
      "source": [
        "class Mobil:\n",
        "    def __init__(self, merek: str, warna: str):\n",
        "        \"\"\"Inisialisasi objek Mobil dengan merek dan warna.\"\"\"\n",
        "        self.merek = merek\n",
        "        self.warna = warna\n",
        "\n",
        "    def nyalakan_mesin(self):\n",
        "        \"\"\"Method untuk menampilkan pesan saat mesin dinyalakan.\"\"\"\n",
        "        print(f\"Mobil {self.merek} berwarna {self.warna} menyalakan mesin.\")\n",
        "\n",
        "# Membuat objek dari kelas Mobil\n",
        "if __name__ == \"__main__\":\n",
        "    car = Mobil(\"Toyota\", \"Merah\")\n",
        "    car.nyalakan_mesin()\n"
      ]
    }
  ]
}
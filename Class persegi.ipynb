{
  "nbformat": 4,
  "nbformat_minor": 0,
  "metadata": {
    "colab": {
      "provenance": [],
      "authorship_tag": "ABX9TyOlDrugAx7TH0yMikyKLvhs",
      "include_colab_link": true
    },
    "kernelspec": {
      "name": "python3",
      "display_name": "Python 3"
    },
    "language_info": {
      "name": "python"
    }
  },
  "cells": [
    {
      "cell_type": "markdown",
      "metadata": {
        "id": "view-in-github",
        "colab_type": "text"
      },
      "source": [
        "<a href=\"https://colab.research.google.com/github/Muhammad-Azizi/PBO2/blob/main/Class%20persegi.ipynb\" target=\"_parent\"><img src=\"https://colab.research.google.com/assets/colab-badge.svg\" alt=\"Open In Colab\"/></a>"
      ]
    },
    {
      "cell_type": "code",
      "execution_count": 1,
      "metadata": {
        "colab": {
          "base_uri": "https://localhost:8080/"
        },
        "id": "TVXeCXjlruD7",
        "outputId": "26650c55-c152-4632-88da-a4bceb690479"
      },
      "outputs": [
        {
          "output_type": "stream",
          "name": "stdout",
          "text": [
            "Persegi dengan sisi 5 cm memiliki luas 25 cm².\n"
          ]
        }
      ],
      "source": [
        "class Persegi:\n",
        "    def __init__(self, sisi: float):\n",
        "        \"\"\"Inisialisasi objek Persegi dengan panjang sisi.\"\"\"\n",
        "        self.sisi = sisi\n",
        "\n",
        "    def buat_persegi(self):\n",
        "        \"\"\"Method untuk menampilkan informasi persegi.\"\"\"\n",
        "        luas = self.sisi ** 2\n",
        "        print(f\"Persegi dengan sisi {self.sisi} cm memiliki luas {luas} cm².\")\n",
        "\n",
        "# Membuat objek dari kelas Persegi\n",
        "if __name__ == \"__main__\":\n",
        "    psg = Persegi(5)\n",
        "    psg.buat_persegi()\n"
      ]
    }
  ]
}